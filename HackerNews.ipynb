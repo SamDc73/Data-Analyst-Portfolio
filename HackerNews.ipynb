{
 "cells": [
  {
   "cell_type": "markdown",
   "metadata": {},
   "source": [
    "# Exploring Hackers News Posts\n",
    "the source of the data can be found [here](https://www.kaggle.com/datasets/santiagobasulto/all-hacker-news-posts-stories-askshow-hn-polls?resource=download)"
   ]
  },
  {
   "cell_type": "markdown",
   "metadata": {
    "jp-MarkdownHeadingCollapsed": true
   },
   "source": [
    "# Introduction"
   ]
  },
  {
   "cell_type": "code",
   "execution_count": 16,
   "metadata": {},
   "outputs": [
    {
     "name": "stdout",
     "output_type": "stream",
     "text": [
      "<class 'pandas.core.frame.DataFrame'>\n",
      "RangeIndex: 3885799 entries, 0 to 3885798\n",
      "Data columns (total 8 columns):\n",
      " #   Column              Dtype  \n",
      "---  ------              -----  \n",
      " 0   Object ID           int64  \n",
      " 1   Title               object \n",
      " 2   Post Type           object \n",
      " 3   Author              object \n",
      " 4   Created At          object \n",
      " 5   URL                 object \n",
      " 6   Points              int64  \n",
      " 7   Number of Comments  float64\n",
      "dtypes: float64(1), int64(2), object(5)\n",
      "memory usage: 237.2+ MB\n"
     ]
    }
   ],
   "source": [
    "# Read in the data.\n",
    "import pandas as pd\n",
    "\n",
    "df=pd.read_csv('dataset/hn.csv') \n",
    "\n",
    "df.info()"
   ]
  },
  {
   "cell_type": "markdown",
   "metadata": {
    "jp-MarkdownHeadingCollapsed": true
   },
   "source": [
    "# Basic Analysis \n"
   ]
  },
  {
   "cell_type": "code",
   "execution_count": 6,
   "metadata": {},
   "outputs": [
    {
     "name": "stdout",
     "output_type": "stream",
     "text": [
      "Total posts: 3885799\n",
      "Unique authors: 344515\n",
      "Average points per post: 15.22\n",
      "Average comments per post: 7.49\n"
     ]
    }
   ],
   "source": [
    "# Basic data exploration\n",
    "print(\"Total posts:\", df.shape[0])\n",
    "print(\"Unique authors:\", df['Author'].nunique())\n",
    "\n",
    "# Calculate average points and comments\n",
    "average_points = df['Points'].mean()\n",
    "average_comments = df['Number of Comments'].mean()\n",
    "\n",
    "print(f\"Average points per post: {average_points:.2f}\")\n",
    "print(f\"Average comments per post: {average_comments:.2f}\")\n",
    "\n",
    "# For more detailed analysis, specify your questions or the kind of insights you're interested in!\n"
   ]
  },
  {
   "cell_type": "markdown",
   "metadata": {},
   "source": [
    "We can see above that the data set contains the title of the posts, the number of comments for each post, and the date the post was created. Let's start by exploring the number of comments for each type of post. "
   ]
  },
  {
   "cell_type": "markdown",
   "metadata": {
    "jp-MarkdownHeadingCollapsed": true
   },
   "source": [
    "# Average Points and Comments by Year\n",
    "\n",
    "We'll extract the year from the \"Created At\" column and then calculate the average points and comments per post for each year."
   ]
  },
  {
   "cell_type": "code",
   "execution_count": 12,
   "metadata": {},
   "outputs": [
    {
     "name": "stdout",
     "output_type": "stream",
     "text": [
      "Average Points and Comments by Year:\n",
      "          Points  Number of Comments\n",
      "Year                               \n",
      "2006   6.400000            1.511111\n",
      "2007   5.225750            3.187263\n",
      "2008   6.950024            3.821054\n",
      "2009  10.577034            5.118574\n",
      "2010  12.407591            5.624498\n",
      "2011   9.592732            3.563401\n",
      "2012   9.326492            3.886842\n",
      "2013  10.836811            5.286462\n",
      "2014  12.911303            5.934712\n",
      "2015  14.014969            5.906572\n",
      "2016  15.701899            7.023367\n",
      "2017  16.901943            7.826129\n",
      "2018  17.672678            8.205834\n",
      "2019  18.230468            8.691374\n",
      "2020  17.668120            9.093882\n",
      "2021  21.621959           12.253274\n",
      "2022  21.261100           12.903375\n",
      "2023  20.850739           12.764002\n"
     ]
    }
   ],
   "source": [
    "# Assuming you've loaded the dataset into a DataFrame named df\n",
    "df['Created At'] = pd.to_datetime(df['Created At'])\n",
    "\n",
    "df['Year'] = df['Created At'].dt.year\n",
    "avg_points_comments_by_year = df.groupby('Year')[['Points', 'Number of Comments']].mean()\n",
    "\n",
    "print(\"Average Points and Comments by Year:\\n\", avg_points_comments_by_year)"
   ]
  },
  {
   "cell_type": "markdown",
   "metadata": {},
   "source": [
    "Comment to fill \n"
   ]
  },
  {
   "cell_type": "markdown",
   "metadata": {
    "jp-MarkdownHeadingCollapsed": true
   },
   "source": [
    "# User Engagement by hours"
   ]
  },
  {
   "cell_type": "markdown",
   "metadata": {},
   "source": [
    "To calculate and list user engagement (in terms of average points received by posts) for each hour of the day, by using head() to display the top hours, we'll remove it to list all 24 hours. This will give us a complete view of how average points vary throughout the day:"
   ]
  },
  {
   "cell_type": "code",
   "execution_count": 33,
   "metadata": {},
   "outputs": [
    {
     "name": "stdout",
     "output_type": "stream",
     "text": [
      "Average Points by Hour (0-23):\n",
      "Hour\n",
      "0     15.265126\n",
      "1     15.327798\n",
      "2     15.375918\n",
      "3     15.136323\n",
      "4     14.919373\n",
      "5     14.709055\n",
      "6     14.138929\n",
      "7     14.194287\n",
      "8     14.400982\n",
      "9     14.848922\n",
      "10    15.488114\n",
      "11    16.629613\n",
      "12    16.833736\n",
      "13    16.088414\n",
      "14    15.376913\n",
      "15    15.427714\n",
      "16    15.526614\n",
      "17    15.328288\n",
      "18    15.151001\n",
      "19    14.971817\n",
      "20    14.427646\n",
      "21    14.539836\n",
      "22    14.581370\n",
      "23    15.021682\n",
      "Name: Points, dtype: float64\n",
      "Best time to post: 12:00 with an average of 16.83 points.\n",
      "Worst time to post: 6:00 with an average of 14.14 points.\n"
     ]
    }
   ],
   "source": [
    "# Ensure 'Created At' is in datetime format\n",
    "df['Created At'] = pd.to_datetime(df['Created At'])\n",
    "\n",
    "# Extract the hour from the 'Created At' column\n",
    "df['Hour'] = df['Created At'].dt.hour\n",
    "\n",
    "# Calculate the average points received by posts for each hour of the day without sorting by the average points\n",
    "avg_points_by_hour = df.groupby('Hour')['Points'].mean()\n",
    "\n",
    "# Print the average points for all hours from 0 to 23\n",
    "print(\"Average Points by Hour (0-23):\")\n",
    "print(avg_points_by_hour)\n",
    "\n",
    "best_hour = avg_points_by_hour.idxmax()\n",
    "worst_hour = avg_points_by_hour.idxmin()\n",
    "print(f\"Best time to post: {best_hour}:00 with an average of {avg_points_by_hour.max():.2f} points.\")\n",
    "print(f\"Worst time to post: {worst_hour}:00 with an average of {avg_points_by_hour.min():.2f} points.\")\n"
   ]
  },
  {
   "cell_type": "markdown",
   "metadata": {},
   "source": [
    "This is a comment to fill"
   ]
  },
  {
   "cell_type": "markdown",
   "metadata": {
    "jp-MarkdownHeadingCollapsed": true
   },
   "source": [
    "# User Retnetion "
   ]
  },
  {
   "cell_type": "markdown",
   "metadata": {
    "jp-MarkdownHeadingCollapsed": true
   },
   "source": [
    "## Number of posts per users"
   ]
  },
  {
   "cell_type": "code",
   "execution_count": 21,
   "metadata": {},
   "outputs": [
    {
     "name": "stdout",
     "output_type": "stream",
     "text": [
      "Average number of posts per user: 11.28\n"
     ]
    }
   ],
   "source": [
    "posts_per_user = df.groupby('Author').size()\n",
    "avg_posts_per_user = posts_per_user.mean()\n",
    "print(f\"Average number of posts per user: {avg_posts_per_user:.2f}\")"
   ]
  },
  {
   "cell_type": "markdown",
   "metadata": {},
   "source": [
    "## Top Users and How Many Posts They Have"
   ]
  },
  {
   "cell_type": "code",
   "execution_count": 22,
   "metadata": {},
   "outputs": [
    {
     "name": "stdout",
     "output_type": "stream",
     "text": [
      "\n",
      "Top users and how many posts they have:\n",
      "Author\n",
      "rbanffy       26918\n",
      "Tomte         21141\n",
      "tosh          16757\n",
      "pseudolus     14590\n",
      "jonbaer       13178\n",
      "ingve         12976\n",
      "bookofjoe     10542\n",
      "mooreds        9860\n",
      "evo_9          9135\n",
      "prostoalex     8807\n",
      "dtype: int64\n"
     ]
    }
   ],
   "source": [
    "top_users = posts_per_user.sort_values(ascending=False).head(10)\n",
    "print(\"\\nTop users and how many posts they have:\")\n",
    "print(top_users)"
   ]
  },
  {
   "cell_type": "markdown",
   "metadata": {},
   "source": [
    "## Engagment "
   ]
  },
  {
   "cell_type": "markdown",
   "metadata": {},
   "source": [
    "In this analysis, we aim to explore the relationship between the engagement a user's first post receives (in terms of points) and their likelihood of posting again on HackerNews. The hypothesis is that initial recognition (measured by points) might influence a user's decision to engage further with the platform. We will:\n",
    "\n",
    "1) Identify the first post of each user and examine how many points it received.\n",
    "2) Categorize these first posts into five brackets based on the points they received: 0-10, 11-25, 26-50, 51-100, 100-200, 200-500, 500-1000, 1000+\n",
    "3) Determine the likelihood of users posting again for each bracket by comparing the number of users who made more than one post against those who didn't."
   ]
  },
  {
   "cell_type": "code",
   "execution_count": 29,
   "metadata": {},
   "outputs": [
    {
     "name": "stdout",
     "output_type": "stream",
     "text": [
      "Points Bracket\n",
      "0-10        0.497411\n",
      "11-25       0.561714\n",
      "26-50       0.618009\n",
      "51-100      0.644573\n",
      "101-200     0.645652\n",
      "201-500     0.632810\n",
      "501-1000    0.616588\n",
      "1000+       0.578947\n",
      "Name: Posted Again, dtype: float64\n"
     ]
    }
   ],
   "source": [
    "# Sort the DataFrame by Author and Created At to ensure we're getting the first post correctly\n",
    "df_sorted = df.sort_values(by=['Author', 'Created At'])\n",
    "\n",
    "# Find the first post of each user\n",
    "first_posts = df_sorted.drop_duplicates(subset=['Author'], keep='first').copy()\n",
    "\n",
    "# Define the new brackets\n",
    "bins = [0, 10, 25, 50, 100, 200, 500, 1000, float('inf')]\n",
    "labels = ['0-10', '11-25', '26-50', '51-100', '101-200', '201-500', '501-1000', '1000+']\n",
    "first_posts['Points Bracket'] = pd.cut(first_posts['Points'], bins=bins, labels=labels, right=False)\n",
    "\n",
    "# Calculate the total number of posts for each user\n",
    "user_post_counts = df.groupby('Author').size()\n",
    "\n",
    "# Identify users who posted more than once\n",
    "repeat_users = user_post_counts[user_post_counts > 1].index\n",
    "\n",
    "# Mark first posts by whether the author posted again\n",
    "first_posts['Posted Again'] = first_posts['Author'].isin(repeat_users)\n",
    "\n",
    "# Calculate the likelihood of posting again by points bracket\n",
    "likelihood_posting_again = first_posts.groupby('Points Bracket')['Posted Again'].mean()\n",
    "\n",
    "print(likelihood_posting_again)\n"
   ]
  },
  {
   "cell_type": "markdown",
   "metadata": {},
   "source": [
    "the higher the points on your first post, the higher chance you have of posting again, but you will start to get dimnishing returns after ~500 points"
   ]
  },
  {
   "cell_type": "code",
   "execution_count": null,
   "metadata": {},
   "outputs": [],
   "source": []
  }
 ],
 "metadata": {
  "kernelspec": {
   "display_name": "Python 3 (ipykernel)",
   "language": "python",
   "name": "python3"
  },
  "language_info": {
   "codemirror_mode": {
    "name": "ipython",
    "version": 3
   },
   "file_extension": ".py",
   "mimetype": "text/x-python",
   "name": "python",
   "nbconvert_exporter": "python",
   "pygments_lexer": "ipython3",
   "version": "3.12.2"
  }
 },
 "nbformat": 4,
 "nbformat_minor": 4
}
